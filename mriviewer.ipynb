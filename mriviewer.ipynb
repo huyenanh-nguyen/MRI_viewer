{
 "cells": [
  {
   "cell_type": "code",
   "execution_count": 1,
   "metadata": {},
   "outputs": [],
   "source": [
    "import pydicom\n",
    "from ipywidgets import interact\n",
    "from pathlib import Path\n",
    "import matplotlib.pyplot as plt\n",
    "\n",
    "from pydicom import dcmread"
   ]
  },
  {
   "cell_type": "code",
   "execution_count": null,
   "metadata": {},
   "outputs": [],
   "source": [
    "mri_mainfolderpath = open(\"dicompath.txt\", \"r\").read()\n",
    "folderpath = list(Path(mri_mainfolderpath).iterdir())\n",
    "ind = 2\n",
    "dcm = sorted(list(folderpath[ind].iterdir()))\n",
    "\n",
    "dcmi = [pydicom.read_file(str(i)).pixel_array for i in dcm]\n",
    "def imageshow(x):\n",
    "    plt.imshow(dcmi[x], cmap = \"gray\", vmax = 300)\n",
    "    plt.show()\n",
    "\n",
    "interact(imageshow, x = (0, len(dcmi) - 1))"
   ]
  }
 ],
 "metadata": {
  "kernelspec": {
   "display_name": "env",
   "language": "python",
   "name": "python3"
  },
  "language_info": {
   "codemirror_mode": {
    "name": "ipython",
    "version": 3
   },
   "file_extension": ".py",
   "mimetype": "text/x-python",
   "name": "python",
   "nbconvert_exporter": "python",
   "pygments_lexer": "ipython3",
   "version": "3.11.6"
  }
 },
 "nbformat": 4,
 "nbformat_minor": 2
}
