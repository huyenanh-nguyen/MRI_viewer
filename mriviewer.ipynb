{
 "cells": [
  {
   "cell_type": "code",
   "execution_count": 1,
   "metadata": {},
   "outputs": [],
   "source": [
    "import pydicom\n",
    "from ipywidgets import interact\n",
    "from pathlib import Path\n",
    "import matplotlib.pyplot as plt\n",
    "\n",
    "from pydicom import dcmread"
   ]
  },
  {
   "cell_type": "code",
   "execution_count": null,
   "metadata": {},
   "outputs": [],
   "source": [
    "mri_mainfolderpath = open(\"dicompath.txt\", \"r\").read() # i added the path of the mri folder to a txtx file and that file will get ignored by git\n",
    "folderpath = list(Path(mri_mainfolderpath).iterdir()) # interate all the folders of different mri measurements like T2, T1 ect in the main patient folder\n",
    "ind = 2 # choose which sequence \n",
    "dcm = sorted(list(folderpath[ind].iterdir())) # add all .dcm file to a list\n",
    "\n",
    "dcmi = [pydicom.read_file(str(i)).pixel_array for i in dcm] # i use pydicom == 1.4.0 because of the function read_file\n",
    "def imageshow(x):\n",
    "    plt.imshow(dcmi[x], cmap = \"gray\", vmax = 300)\n",
    "    plt.show()\n",
    "\n",
    "interact(imageshow, x = (0, len(dcmi) - 1)) # jupiters own interaction widgets"
   ]
  }
 ],
 "metadata": {
  "kernelspec": {
   "display_name": "env",
   "language": "python",
   "name": "python3"
  },
  "language_info": {
   "codemirror_mode": {
    "name": "ipython",
    "version": 3
   },
   "file_extension": ".py",
   "mimetype": "text/x-python",
   "name": "python",
   "nbconvert_exporter": "python",
   "pygments_lexer": "ipython3",
   "version": "3.11.6"
  }
 },
 "nbformat": 4,
 "nbformat_minor": 2
}
